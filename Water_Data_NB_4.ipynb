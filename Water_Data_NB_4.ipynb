{
 "cells": [
  {
   "cell_type": "code",
   "execution_count": 158,
   "metadata": {},
   "outputs": [],
   "source": [
    "#Importing necessary libraries\n",
    "import numpy as np\n",
    "import pandas as pd\n",
    "import matplotlib.pyplot as plt\n",
    "%matplotlib inline\n",
    "import seaborn as sns"
   ]
  },
  {
   "cell_type": "code",
   "execution_count": 159,
   "metadata": {},
   "outputs": [
    {
     "data": {
      "text/html": [
       "<div>\n",
       "<style scoped>\n",
       "    .dataframe tbody tr th:only-of-type {\n",
       "        vertical-align: middle;\n",
       "    }\n",
       "\n",
       "    .dataframe tbody tr th {\n",
       "        vertical-align: top;\n",
       "    }\n",
       "\n",
       "    .dataframe thead th {\n",
       "        text-align: right;\n",
       "    }\n",
       "</style>\n",
       "<table border=\"1\" class=\"dataframe\">\n",
       "  <thead>\n",
       "    <tr style=\"text-align: right;\">\n",
       "      <th></th>\n",
       "      <th>Temperature</th>\n",
       "      <th>Dissolved Oxygen</th>\n",
       "      <th>pH</th>\n",
       "      <th>Bio-Chemical Oxygen Demand (mg/L)</th>\n",
       "      <th>Faecal Streptococci (MPN/ 100 mL)</th>\n",
       "      <th>Nitrate (mg/ L)</th>\n",
       "      <th>Faecal Coliform (MPN/ 100 mL)</th>\n",
       "      <th>Total Coliform (MPN/ 100 mL)</th>\n",
       "      <th>Conductivity (mho/ Cm)</th>\n",
       "      <th>WQI</th>\n",
       "    </tr>\n",
       "  </thead>\n",
       "  <tbody>\n",
       "    <tr>\n",
       "      <th>0</th>\n",
       "      <td>7.5</td>\n",
       "      <td>9.95</td>\n",
       "      <td>7.85</td>\n",
       "      <td>0.15</td>\n",
       "      <td>90.0</td>\n",
       "      <td>0.255</td>\n",
       "      <td>22.5</td>\n",
       "      <td>180.0</td>\n",
       "      <td>134.5</td>\n",
       "      <td>27.143963</td>\n",
       "    </tr>\n",
       "    <tr>\n",
       "      <th>1</th>\n",
       "      <td>11.0</td>\n",
       "      <td>9.65</td>\n",
       "      <td>7.70</td>\n",
       "      <td>0.45</td>\n",
       "      <td>205.0</td>\n",
       "      <td>0.200</td>\n",
       "      <td>62.5</td>\n",
       "      <td>410.0</td>\n",
       "      <td>77.0</td>\n",
       "      <td>15.780001</td>\n",
       "    </tr>\n",
       "    <tr>\n",
       "      <th>2</th>\n",
       "      <td>7.5</td>\n",
       "      <td>9.90</td>\n",
       "      <td>7.65</td>\n",
       "      <td>0.55</td>\n",
       "      <td>100.0</td>\n",
       "      <td>0.100</td>\n",
       "      <td>26.0</td>\n",
       "      <td>200.0</td>\n",
       "      <td>101.5</td>\n",
       "      <td>20.612438</td>\n",
       "    </tr>\n",
       "    <tr>\n",
       "      <th>3</th>\n",
       "      <td>8.5</td>\n",
       "      <td>9.65</td>\n",
       "      <td>7.55</td>\n",
       "      <td>0.35</td>\n",
       "      <td>300.0</td>\n",
       "      <td>0.250</td>\n",
       "      <td>97.5</td>\n",
       "      <td>600.0</td>\n",
       "      <td>148.0</td>\n",
       "      <td>29.820475</td>\n",
       "    </tr>\n",
       "    <tr>\n",
       "      <th>4</th>\n",
       "      <td>10.0</td>\n",
       "      <td>9.55</td>\n",
       "      <td>7.80</td>\n",
       "      <td>0.25</td>\n",
       "      <td>190.0</td>\n",
       "      <td>0.150</td>\n",
       "      <td>47.5</td>\n",
       "      <td>380.0</td>\n",
       "      <td>106.0</td>\n",
       "      <td>21.498569</td>\n",
       "    </tr>\n",
       "  </tbody>\n",
       "</table>\n",
       "</div>"
      ],
      "text/plain": [
       "   Temperature  Dissolved Oxygen    pH  Bio-Chemical Oxygen Demand (mg/L)  \\\n",
       "0          7.5              9.95  7.85                               0.15   \n",
       "1         11.0              9.65  7.70                               0.45   \n",
       "2          7.5              9.90  7.65                               0.55   \n",
       "3          8.5              9.65  7.55                               0.35   \n",
       "4         10.0              9.55  7.80                               0.25   \n",
       "\n",
       "   Faecal Streptococci (MPN/ 100 mL)  Nitrate (mg/ L)  \\\n",
       "0                               90.0            0.255   \n",
       "1                              205.0            0.200   \n",
       "2                              100.0            0.100   \n",
       "3                              300.0            0.250   \n",
       "4                              190.0            0.150   \n",
       "\n",
       "   Faecal Coliform (MPN/ 100 mL)  Total Coliform (MPN/ 100 mL)  \\\n",
       "0                           22.5                         180.0   \n",
       "1                           62.5                         410.0   \n",
       "2                           26.0                         200.0   \n",
       "3                           97.5                         600.0   \n",
       "4                           47.5                         380.0   \n",
       "\n",
       "   Conductivity (mho/ Cm)        WQI  \n",
       "0                   134.5  27.143963  \n",
       "1                    77.0  15.780001  \n",
       "2                   101.5  20.612438  \n",
       "3                   148.0  29.820475  \n",
       "4                   106.0  21.498569  "
      ]
     },
     "execution_count": 159,
     "metadata": {},
     "output_type": "execute_result"
    }
   ],
   "source": [
    "#Reading the file\n",
    "df=pd.read_csv('Results_MADE.csv')\n",
    "df.head()"
   ]
  },
  {
   "cell_type": "code",
   "execution_count": 160,
   "metadata": {},
   "outputs": [
    {
     "name": "stdout",
     "output_type": "stream",
     "text": [
      "<class 'pandas.core.frame.DataFrame'>\n",
      "RangeIndex: 295 entries, 0 to 294\n",
      "Data columns (total 10 columns):\n",
      " #   Column                             Non-Null Count  Dtype  \n",
      "---  ------                             --------------  -----  \n",
      " 0   Temperature                        295 non-null    float64\n",
      " 1   Dissolved Oxygen                   295 non-null    float64\n",
      " 2   pH                                 295 non-null    float64\n",
      " 3   Bio-Chemical Oxygen Demand (mg/L)  295 non-null    float64\n",
      " 4   Faecal Streptococci (MPN/ 100 mL)  295 non-null    float64\n",
      " 5   Nitrate (mg/ L)                    295 non-null    float64\n",
      " 6   Faecal Coliform (MPN/ 100 mL)      295 non-null    float64\n",
      " 7   Total Coliform (MPN/ 100 mL)       295 non-null    float64\n",
      " 8   Conductivity (mho/ Cm)             295 non-null    float64\n",
      " 9   WQI                                295 non-null    float64\n",
      "dtypes: float64(10)\n",
      "memory usage: 23.2 KB\n"
     ]
    }
   ],
   "source": [
    "df.info()"
   ]
  },
  {
   "cell_type": "code",
   "execution_count": 161,
   "metadata": {},
   "outputs": [
    {
     "data": {
      "text/html": [
       "<div>\n",
       "<style scoped>\n",
       "    .dataframe tbody tr th:only-of-type {\n",
       "        vertical-align: middle;\n",
       "    }\n",
       "\n",
       "    .dataframe tbody tr th {\n",
       "        vertical-align: top;\n",
       "    }\n",
       "\n",
       "    .dataframe thead th {\n",
       "        text-align: right;\n",
       "    }\n",
       "</style>\n",
       "<table border=\"1\" class=\"dataframe\">\n",
       "  <thead>\n",
       "    <tr style=\"text-align: right;\">\n",
       "      <th></th>\n",
       "      <th>Temperature</th>\n",
       "      <th>Dissolved Oxygen</th>\n",
       "      <th>pH</th>\n",
       "      <th>Bio-Chemical Oxygen Demand (mg/L)</th>\n",
       "      <th>Faecal Streptococci (MPN/ 100 mL)</th>\n",
       "      <th>Nitrate (mg/ L)</th>\n",
       "      <th>Faecal Coliform (MPN/ 100 mL)</th>\n",
       "      <th>Total Coliform (MPN/ 100 mL)</th>\n",
       "      <th>Conductivity (mho/ Cm)</th>\n",
       "      <th>WQI</th>\n",
       "    </tr>\n",
       "  </thead>\n",
       "  <tbody>\n",
       "    <tr>\n",
       "      <th>count</th>\n",
       "      <td>295.000000</td>\n",
       "      <td>295.000000</td>\n",
       "      <td>295.000000</td>\n",
       "      <td>295.000000</td>\n",
       "      <td>295.000000</td>\n",
       "      <td>295.000000</td>\n",
       "      <td>295.000000</td>\n",
       "      <td>295.000000</td>\n",
       "      <td>295.000000</td>\n",
       "      <td>295.000000</td>\n",
       "    </tr>\n",
       "    <tr>\n",
       "      <th>mean</th>\n",
       "      <td>20.903898</td>\n",
       "      <td>7.342034</td>\n",
       "      <td>7.754627</td>\n",
       "      <td>3.544136</td>\n",
       "      <td>7463.333729</td>\n",
       "      <td>0.870915</td>\n",
       "      <td>5983.661695</td>\n",
       "      <td>14926.667458</td>\n",
       "      <td>501.860678</td>\n",
       "      <td>100.889437</td>\n",
       "    </tr>\n",
       "    <tr>\n",
       "      <th>std</th>\n",
       "      <td>6.051566</td>\n",
       "      <td>1.910113</td>\n",
       "      <td>0.378879</td>\n",
       "      <td>9.043299</td>\n",
       "      <td>26272.135186</td>\n",
       "      <td>1.431247</td>\n",
       "      <td>22934.986514</td>\n",
       "      <td>52544.270371</td>\n",
       "      <td>798.311280</td>\n",
       "      <td>158.115301</td>\n",
       "    </tr>\n",
       "    <tr>\n",
       "      <th>min</th>\n",
       "      <td>0.000000</td>\n",
       "      <td>0.000000</td>\n",
       "      <td>5.350000</td>\n",
       "      <td>0.000000</td>\n",
       "      <td>0.000000</td>\n",
       "      <td>0.000000</td>\n",
       "      <td>0.000000</td>\n",
       "      <td>0.000000</td>\n",
       "      <td>0.000000</td>\n",
       "      <td>0.524595</td>\n",
       "    </tr>\n",
       "    <tr>\n",
       "      <th>25%</th>\n",
       "      <td>18.000000</td>\n",
       "      <td>6.850000</td>\n",
       "      <td>7.550000</td>\n",
       "      <td>0.725000</td>\n",
       "      <td>29.225000</td>\n",
       "      <td>0.155000</td>\n",
       "      <td>4.000000</td>\n",
       "      <td>58.450000</td>\n",
       "      <td>208.250000</td>\n",
       "      <td>42.010910</td>\n",
       "    </tr>\n",
       "    <tr>\n",
       "      <th>50%</th>\n",
       "      <td>22.500000</td>\n",
       "      <td>7.750000</td>\n",
       "      <td>7.750000</td>\n",
       "      <td>1.600000</td>\n",
       "      <td>240.000000</td>\n",
       "      <td>0.550000</td>\n",
       "      <td>79.500000</td>\n",
       "      <td>480.000000</td>\n",
       "      <td>299.500000</td>\n",
       "      <td>60.379172</td>\n",
       "    </tr>\n",
       "    <tr>\n",
       "      <th>75%</th>\n",
       "      <td>25.550000</td>\n",
       "      <td>8.600000</td>\n",
       "      <td>8.000000</td>\n",
       "      <td>3.100000</td>\n",
       "      <td>2650.000000</td>\n",
       "      <td>0.950000</td>\n",
       "      <td>2375.000000</td>\n",
       "      <td>5300.000000</td>\n",
       "      <td>438.250000</td>\n",
       "      <td>90.120883</td>\n",
       "    </tr>\n",
       "    <tr>\n",
       "      <th>max</th>\n",
       "      <td>30.500000</td>\n",
       "      <td>10.250000</td>\n",
       "      <td>8.600000</td>\n",
       "      <td>123.500000</td>\n",
       "      <td>229000.000000</td>\n",
       "      <td>14.050000</td>\n",
       "      <td>251000.000000</td>\n",
       "      <td>458000.000000</td>\n",
       "      <td>9272.000000</td>\n",
       "      <td>1834.549110</td>\n",
       "    </tr>\n",
       "  </tbody>\n",
       "</table>\n",
       "</div>"
      ],
      "text/plain": [
       "       Temperature  Dissolved Oxygen          pH  \\\n",
       "count   295.000000        295.000000  295.000000   \n",
       "mean     20.903898          7.342034    7.754627   \n",
       "std       6.051566          1.910113    0.378879   \n",
       "min       0.000000          0.000000    5.350000   \n",
       "25%      18.000000          6.850000    7.550000   \n",
       "50%      22.500000          7.750000    7.750000   \n",
       "75%      25.550000          8.600000    8.000000   \n",
       "max      30.500000         10.250000    8.600000   \n",
       "\n",
       "       Bio-Chemical Oxygen Demand (mg/L)  Faecal Streptococci (MPN/ 100 mL)  \\\n",
       "count                         295.000000                         295.000000   \n",
       "mean                            3.544136                        7463.333729   \n",
       "std                             9.043299                       26272.135186   \n",
       "min                             0.000000                           0.000000   \n",
       "25%                             0.725000                          29.225000   \n",
       "50%                             1.600000                         240.000000   \n",
       "75%                             3.100000                        2650.000000   \n",
       "max                           123.500000                      229000.000000   \n",
       "\n",
       "       Nitrate (mg/ L)  Faecal Coliform (MPN/ 100 mL)  \\\n",
       "count       295.000000                     295.000000   \n",
       "mean          0.870915                    5983.661695   \n",
       "std           1.431247                   22934.986514   \n",
       "min           0.000000                       0.000000   \n",
       "25%           0.155000                       4.000000   \n",
       "50%           0.550000                      79.500000   \n",
       "75%           0.950000                    2375.000000   \n",
       "max          14.050000                  251000.000000   \n",
       "\n",
       "       Total Coliform (MPN/ 100 mL)  Conductivity (mho/ Cm)          WQI  \n",
       "count                    295.000000              295.000000   295.000000  \n",
       "mean                   14926.667458              501.860678   100.889437  \n",
       "std                    52544.270371              798.311280   158.115301  \n",
       "min                        0.000000                0.000000     0.524595  \n",
       "25%                       58.450000              208.250000    42.010910  \n",
       "50%                      480.000000              299.500000    60.379172  \n",
       "75%                     5300.000000              438.250000    90.120883  \n",
       "max                   458000.000000             9272.000000  1834.549110  "
      ]
     },
     "execution_count": 161,
     "metadata": {},
     "output_type": "execute_result"
    }
   ],
   "source": [
    "df.describe()"
   ]
  },
  {
   "cell_type": "code",
   "execution_count": 162,
   "metadata": {},
   "outputs": [],
   "source": [
    "#Creating X & y variables\n",
    "X=df[['Temperature','Dissolved Oxygen','pH','Bio-Chemical Oxygen Demand (mg/L)','Faecal Streptococci (MPN/ 100 mL)','Nitrate (mg/ L)','Faecal Coliform (MPN/ 100 mL)','Total Coliform (MPN/ 100 mL)','Conductivity (mho/ Cm)']]\n",
    "y=df['WQI']"
   ]
  },
  {
   "cell_type": "code",
   "execution_count": 163,
   "metadata": {},
   "outputs": [
    {
     "data": {
      "text/html": [
       "<div>\n",
       "<style scoped>\n",
       "    .dataframe tbody tr th:only-of-type {\n",
       "        vertical-align: middle;\n",
       "    }\n",
       "\n",
       "    .dataframe tbody tr th {\n",
       "        vertical-align: top;\n",
       "    }\n",
       "\n",
       "    .dataframe thead th {\n",
       "        text-align: right;\n",
       "    }\n",
       "</style>\n",
       "<table border=\"1\" class=\"dataframe\">\n",
       "  <thead>\n",
       "    <tr style=\"text-align: right;\">\n",
       "      <th></th>\n",
       "      <th>Temperature</th>\n",
       "      <th>Dissolved Oxygen</th>\n",
       "      <th>pH</th>\n",
       "      <th>Bio-Chemical Oxygen Demand (mg/L)</th>\n",
       "      <th>Faecal Streptococci (MPN/ 100 mL)</th>\n",
       "      <th>Nitrate (mg/ L)</th>\n",
       "      <th>Faecal Coliform (MPN/ 100 mL)</th>\n",
       "      <th>Total Coliform (MPN/ 100 mL)</th>\n",
       "      <th>Conductivity (mho/ Cm)</th>\n",
       "    </tr>\n",
       "  </thead>\n",
       "  <tbody>\n",
       "    <tr>\n",
       "      <th>0</th>\n",
       "      <td>7.5</td>\n",
       "      <td>9.95</td>\n",
       "      <td>7.85</td>\n",
       "      <td>0.15</td>\n",
       "      <td>90.0</td>\n",
       "      <td>0.255</td>\n",
       "      <td>22.5</td>\n",
       "      <td>180.0</td>\n",
       "      <td>134.5</td>\n",
       "    </tr>\n",
       "    <tr>\n",
       "      <th>1</th>\n",
       "      <td>11.0</td>\n",
       "      <td>9.65</td>\n",
       "      <td>7.70</td>\n",
       "      <td>0.45</td>\n",
       "      <td>205.0</td>\n",
       "      <td>0.200</td>\n",
       "      <td>62.5</td>\n",
       "      <td>410.0</td>\n",
       "      <td>77.0</td>\n",
       "    </tr>\n",
       "    <tr>\n",
       "      <th>2</th>\n",
       "      <td>7.5</td>\n",
       "      <td>9.90</td>\n",
       "      <td>7.65</td>\n",
       "      <td>0.55</td>\n",
       "      <td>100.0</td>\n",
       "      <td>0.100</td>\n",
       "      <td>26.0</td>\n",
       "      <td>200.0</td>\n",
       "      <td>101.5</td>\n",
       "    </tr>\n",
       "    <tr>\n",
       "      <th>3</th>\n",
       "      <td>8.5</td>\n",
       "      <td>9.65</td>\n",
       "      <td>7.55</td>\n",
       "      <td>0.35</td>\n",
       "      <td>300.0</td>\n",
       "      <td>0.250</td>\n",
       "      <td>97.5</td>\n",
       "      <td>600.0</td>\n",
       "      <td>148.0</td>\n",
       "    </tr>\n",
       "    <tr>\n",
       "      <th>4</th>\n",
       "      <td>10.0</td>\n",
       "      <td>9.55</td>\n",
       "      <td>7.80</td>\n",
       "      <td>0.25</td>\n",
       "      <td>190.0</td>\n",
       "      <td>0.150</td>\n",
       "      <td>47.5</td>\n",
       "      <td>380.0</td>\n",
       "      <td>106.0</td>\n",
       "    </tr>\n",
       "  </tbody>\n",
       "</table>\n",
       "</div>"
      ],
      "text/plain": [
       "   Temperature  Dissolved Oxygen    pH  Bio-Chemical Oxygen Demand (mg/L)  \\\n",
       "0          7.5              9.95  7.85                               0.15   \n",
       "1         11.0              9.65  7.70                               0.45   \n",
       "2          7.5              9.90  7.65                               0.55   \n",
       "3          8.5              9.65  7.55                               0.35   \n",
       "4         10.0              9.55  7.80                               0.25   \n",
       "\n",
       "   Faecal Streptococci (MPN/ 100 mL)  Nitrate (mg/ L)  \\\n",
       "0                               90.0            0.255   \n",
       "1                              205.0            0.200   \n",
       "2                              100.0            0.100   \n",
       "3                              300.0            0.250   \n",
       "4                              190.0            0.150   \n",
       "\n",
       "   Faecal Coliform (MPN/ 100 mL)  Total Coliform (MPN/ 100 mL)  \\\n",
       "0                           22.5                         180.0   \n",
       "1                           62.5                         410.0   \n",
       "2                           26.0                         200.0   \n",
       "3                           97.5                         600.0   \n",
       "4                           47.5                         380.0   \n",
       "\n",
       "   Conductivity (mho/ Cm)  \n",
       "0                   134.5  \n",
       "1                    77.0  \n",
       "2                   101.5  \n",
       "3                   148.0  \n",
       "4                   106.0  "
      ]
     },
     "execution_count": 163,
     "metadata": {},
     "output_type": "execute_result"
    }
   ],
   "source": [
    "X.head()"
   ]
  },
  {
   "cell_type": "code",
   "execution_count": 164,
   "metadata": {},
   "outputs": [
    {
     "data": {
      "text/plain": [
       "0    27.143963\n",
       "1    15.780001\n",
       "2    20.612438\n",
       "3    29.820475\n",
       "4    21.498569\n",
       "Name: WQI, dtype: float64"
      ]
     },
     "execution_count": 164,
     "metadata": {},
     "output_type": "execute_result"
    }
   ],
   "source": [
    "y.head()"
   ]
  },
  {
   "cell_type": "code",
   "execution_count": 165,
   "metadata": {},
   "outputs": [],
   "source": [
    "from sklearn.model_selection import train_test_split\n",
    "X_train,X_test,y_train,y_test=train_test_split(X,y,random_state=100,test_size=0.20)"
   ]
  },
  {
   "cell_type": "code",
   "execution_count": 166,
   "metadata": {},
   "outputs": [],
   "source": [
    "from sklearn.preprocessing import StandardScaler\n",
    "\n",
    "sc=StandardScaler()\n",
    "sc.fit(X_train)\n",
    "X_train=sc.transform(X_train)\n",
    "X_train=pd.DataFrame(X_train)"
   ]
  },
  {
   "cell_type": "code",
   "execution_count": 167,
   "metadata": {},
   "outputs": [
    {
     "data": {
      "text/html": [
       "<div>\n",
       "<style scoped>\n",
       "    .dataframe tbody tr th:only-of-type {\n",
       "        vertical-align: middle;\n",
       "    }\n",
       "\n",
       "    .dataframe tbody tr th {\n",
       "        vertical-align: top;\n",
       "    }\n",
       "\n",
       "    .dataframe thead th {\n",
       "        text-align: right;\n",
       "    }\n",
       "</style>\n",
       "<table border=\"1\" class=\"dataframe\">\n",
       "  <thead>\n",
       "    <tr style=\"text-align: right;\">\n",
       "      <th></th>\n",
       "      <th>0</th>\n",
       "      <th>1</th>\n",
       "      <th>2</th>\n",
       "      <th>3</th>\n",
       "      <th>4</th>\n",
       "      <th>5</th>\n",
       "      <th>6</th>\n",
       "      <th>7</th>\n",
       "      <th>8</th>\n",
       "    </tr>\n",
       "  </thead>\n",
       "  <tbody>\n",
       "    <tr>\n",
       "      <th>0</th>\n",
       "      <td>-1.515054</td>\n",
       "      <td>0.602300</td>\n",
       "      <td>-0.151977</td>\n",
       "      <td>-0.293246</td>\n",
       "      <td>-0.261648</td>\n",
       "      <td>-0.058410</td>\n",
       "      <td>-0.273598</td>\n",
       "      <td>-0.261648</td>\n",
       "      <td>0.941230</td>\n",
       "    </tr>\n",
       "    <tr>\n",
       "      <th>1</th>\n",
       "      <td>0.538289</td>\n",
       "      <td>-0.203194</td>\n",
       "      <td>0.653111</td>\n",
       "      <td>0.097389</td>\n",
       "      <td>0.662234</td>\n",
       "      <td>-0.585346</td>\n",
       "      <td>1.123784</td>\n",
       "      <td>0.662234</td>\n",
       "      <td>-0.213084</td>\n",
       "    </tr>\n",
       "    <tr>\n",
       "      <th>2</th>\n",
       "      <td>0.579356</td>\n",
       "      <td>0.441201</td>\n",
       "      <td>1.458199</td>\n",
       "      <td>-0.092789</td>\n",
       "      <td>-0.227983</td>\n",
       "      <td>-0.100565</td>\n",
       "      <td>-0.219646</td>\n",
       "      <td>-0.227983</td>\n",
       "      <td>-0.122216</td>\n",
       "    </tr>\n",
       "    <tr>\n",
       "      <th>3</th>\n",
       "      <td>-1.597188</td>\n",
       "      <td>0.763398</td>\n",
       "      <td>-0.688703</td>\n",
       "      <td>-0.344645</td>\n",
       "      <td>-0.268913</td>\n",
       "      <td>-0.585346</td>\n",
       "      <td>-0.276183</td>\n",
       "      <td>-0.268913</td>\n",
       "      <td>-0.419442</td>\n",
       "    </tr>\n",
       "    <tr>\n",
       "      <th>4</th>\n",
       "      <td>-1.638255</td>\n",
       "      <td>0.333802</td>\n",
       "      <td>0.384748</td>\n",
       "      <td>-0.252126</td>\n",
       "      <td>-0.268913</td>\n",
       "      <td>-0.585346</td>\n",
       "      <td>-0.276183</td>\n",
       "      <td>-0.268913</td>\n",
       "      <td>-0.233017</td>\n",
       "    </tr>\n",
       "  </tbody>\n",
       "</table>\n",
       "</div>"
      ],
      "text/plain": [
       "          0         1         2         3         4         5         6  \\\n",
       "0 -1.515054  0.602300 -0.151977 -0.293246 -0.261648 -0.058410 -0.273598   \n",
       "1  0.538289 -0.203194  0.653111  0.097389  0.662234 -0.585346  1.123784   \n",
       "2  0.579356  0.441201  1.458199 -0.092789 -0.227983 -0.100565 -0.219646   \n",
       "3 -1.597188  0.763398 -0.688703 -0.344645 -0.268913 -0.585346 -0.276183   \n",
       "4 -1.638255  0.333802  0.384748 -0.252126 -0.268913 -0.585346 -0.276183   \n",
       "\n",
       "          7         8  \n",
       "0 -0.261648  0.941230  \n",
       "1  0.662234 -0.213084  \n",
       "2 -0.227983 -0.122216  \n",
       "3 -0.268913 -0.419442  \n",
       "4 -0.268913 -0.233017  "
      ]
     },
     "execution_count": 167,
     "metadata": {},
     "output_type": "execute_result"
    }
   ],
   "source": [
    "X_train.head()"
   ]
  },
  {
   "cell_type": "code",
   "execution_count": 168,
   "metadata": {},
   "outputs": [
    {
     "data": {
      "text/plain": [
       "0    261.084682\n",
       "1     70.407994\n",
       "2     81.942194\n",
       "3     31.436803\n",
       "4     62.912114\n",
       "Name: WQI, dtype: float64"
      ]
     },
     "execution_count": 168,
     "metadata": {},
     "output_type": "execute_result"
    }
   ],
   "source": [
    "y_train=y_train.reset_index(drop=True)\n",
    "y_train.head()"
   ]
  },
  {
   "cell_type": "code",
   "execution_count": 169,
   "metadata": {},
   "outputs": [
    {
     "data": {
      "text/plain": [
       "0   -1.515054\n",
       "1    0.538289\n",
       "2    0.579356\n",
       "3   -1.597188\n",
       "4   -1.638255\n",
       "Name: 0, dtype: float64"
      ]
     },
     "execution_count": 169,
     "metadata": {},
     "output_type": "execute_result"
    }
   ],
   "source": [
    "X_train.iloc[:,0].head()"
   ]
  },
  {
   "cell_type": "code",
   "execution_count": 170,
   "metadata": {},
   "outputs": [
    {
     "data": {
      "text/html": [
       "<div>\n",
       "<style scoped>\n",
       "    .dataframe tbody tr th:only-of-type {\n",
       "        vertical-align: middle;\n",
       "    }\n",
       "\n",
       "    .dataframe tbody tr th {\n",
       "        vertical-align: top;\n",
       "    }\n",
       "\n",
       "    .dataframe thead th {\n",
       "        text-align: right;\n",
       "    }\n",
       "</style>\n",
       "<table border=\"1\" class=\"dataframe\">\n",
       "  <thead>\n",
       "    <tr style=\"text-align: right;\">\n",
       "      <th></th>\n",
       "      <th>Coln</th>\n",
       "      <th>WQI</th>\n",
       "    </tr>\n",
       "  </thead>\n",
       "  <tbody>\n",
       "    <tr>\n",
       "      <th>0</th>\n",
       "      <td>-1.515054</td>\n",
       "      <td>261.084682</td>\n",
       "    </tr>\n",
       "    <tr>\n",
       "      <th>1</th>\n",
       "      <td>0.538289</td>\n",
       "      <td>70.407994</td>\n",
       "    </tr>\n",
       "    <tr>\n",
       "      <th>2</th>\n",
       "      <td>0.579356</td>\n",
       "      <td>81.942194</td>\n",
       "    </tr>\n",
       "    <tr>\n",
       "      <th>3</th>\n",
       "      <td>-1.597188</td>\n",
       "      <td>31.436803</td>\n",
       "    </tr>\n",
       "    <tr>\n",
       "      <th>4</th>\n",
       "      <td>-1.638255</td>\n",
       "      <td>62.912114</td>\n",
       "    </tr>\n",
       "  </tbody>\n",
       "</table>\n",
       "</div>"
      ],
      "text/plain": [
       "       Coln         WQI\n",
       "0 -1.515054  261.084682\n",
       "1  0.538289   70.407994\n",
       "2  0.579356   81.942194\n",
       "3 -1.597188   31.436803\n",
       "4 -1.638255   62.912114"
      ]
     },
     "execution_count": 170,
     "metadata": {},
     "output_type": "execute_result"
    }
   ],
   "source": [
    "df_2=pd.DataFrame()\n",
    "df_2['Coln']=X_train.iloc[:,0]\n",
    "df_2['WQI']=y_train[0:]\n",
    "df_2.head()"
   ]
  },
  {
   "cell_type": "markdown",
   "metadata": {},
   "source": [
    "Applying ANN for Regression"
   ]
  },
  {
   "cell_type": "code",
   "execution_count": 171,
   "metadata": {},
   "outputs": [],
   "source": [
    "import tensorflow as tf\n",
    "from tensorflow.keras.optimizers import SGD"
   ]
  },
  {
   "cell_type": "code",
   "execution_count": 172,
   "metadata": {},
   "outputs": [
    {
     "data": {
      "text/plain": [
       "<keras.engine.sequential.Sequential at 0x293ee392640>"
      ]
     },
     "execution_count": 172,
     "metadata": {},
     "output_type": "execute_result"
    }
   ],
   "source": [
    "#ANN\n",
    "ann=tf.keras.models.Sequential()\n",
    "ann"
   ]
  },
  {
   "cell_type": "code",
   "execution_count": 173,
   "metadata": {},
   "outputs": [],
   "source": [
    "#Adding layer (Input)\n",
    "ann.add(tf.keras.layers.Dense(units=9,activation='relu'))"
   ]
  },
  {
   "cell_type": "code",
   "execution_count": 174,
   "metadata": {},
   "outputs": [],
   "source": [
    "#Adding layer (1st hidden layer)\n",
    "ann.add(tf.keras.layers.Dense(units=12,activation='relu'))"
   ]
  },
  {
   "cell_type": "code",
   "execution_count": 175,
   "metadata": {},
   "outputs": [],
   "source": [
    "#Adding layer (Output)\n",
    "ann.add(tf.keras.layers.Dense(units=1,activation='linear'))"
   ]
  },
  {
   "cell_type": "code",
   "execution_count": 176,
   "metadata": {},
   "outputs": [
    {
     "name": "stderr",
     "output_type": "stream",
     "text": [
      "C:\\Users\\Chinmay\\anaconda3\\lib\\site-packages\\keras\\optimizer_v2\\optimizer_v2.py:355: UserWarning: The `lr` argument is deprecated, use `learning_rate` instead.\n",
      "  warnings.warn(\n"
     ]
    }
   ],
   "source": [
    "opt=SGD(lr=0.01,momentum=0.9)"
   ]
  },
  {
   "cell_type": "code",
   "execution_count": 177,
   "metadata": {},
   "outputs": [],
   "source": [
    "#Stochastic Gradient Descent\n",
    "ann.compile(optimizer=opt,loss='mean_absolute_error',metrics=['mse'])"
   ]
  },
  {
   "cell_type": "code",
   "execution_count": 178,
   "metadata": {},
   "outputs": [],
   "source": [
    "#Training the model\n",
    "history=ann.fit(X_train,y_train,batch_size=32,epochs=100,verbose=0)"
   ]
  },
  {
   "cell_type": "code",
   "execution_count": 179,
   "metadata": {},
   "outputs": [
    {
     "name": "stdout",
     "output_type": "stream",
     "text": [
      "WARNING:tensorflow:6 out of the last 11 calls to <function Model.make_predict_function.<locals>.predict_function at 0x00000293EBCACA60> triggered tf.function retracing. Tracing is expensive and the excessive number of tracings could be due to (1) creating @tf.function repeatedly in a loop, (2) passing tensors with different shapes, (3) passing Python objects instead of tensors. For (1), please define your @tf.function outside of the loop. For (2), @tf.function has experimental_relax_shapes=True option that relaxes argument shapes that can avoid unnecessary retracing. For (3), please refer to https://www.tensorflow.org/guide/function#controlling_retracing and https://www.tensorflow.org/api_docs/python/tf/function for  more details.\n"
     ]
    }
   ],
   "source": [
    "y_pred=ann.predict(sc.transform(X_test))"
   ]
  },
  {
   "cell_type": "code",
   "execution_count": 180,
   "metadata": {},
   "outputs": [
    {
     "data": {
      "text/plain": [
       "dict_keys(['loss', 'mse'])"
      ]
     },
     "execution_count": 180,
     "metadata": {},
     "output_type": "execute_result"
    }
   ],
   "source": [
    "history.history.keys()"
   ]
  },
  {
   "cell_type": "code",
   "execution_count": 181,
   "metadata": {},
   "outputs": [],
   "source": [
    "_,train_mse=ann.evaluate(X_train,y_train,verbose=0)"
   ]
  },
  {
   "cell_type": "code",
   "execution_count": 182,
   "metadata": {},
   "outputs": [],
   "source": [
    "_,test_mse=ann.evaluate(X_test,y_test,verbose=0)"
   ]
  },
  {
   "cell_type": "code",
   "execution_count": 183,
   "metadata": {},
   "outputs": [
    {
     "name": "stdout",
     "output_type": "stream",
     "text": [
      "Train MSE: 1815.3131103515625 Test MSE: 104045871104.0\n"
     ]
    }
   ],
   "source": [
    "print('Train MSE: '+str(train_mse)+' Test MSE: '+str(test_mse))"
   ]
  },
  {
   "cell_type": "code",
   "execution_count": 184,
   "metadata": {},
   "outputs": [
    {
     "data": {
      "image/png": "[encoded data removed]",
      "text/plain": [
       "<Figure size 432x288 with 1 Axes>"
      ]
     },
     "metadata": {
      "needs_background": "light"
     },
     "output_type": "display_data"
    }
   ],
   "source": [
    "loss_train=history.history['loss']\n",
    "loss_val=history.history['mse']\n",
    "epochs=range(1,101)\n",
    "plt.plot(epochs, loss_train, 'g', label='Training loss')\n",
    "plt.plot(epochs, loss_val, 'b', label='Validation loss')\n",
    "plt.title('Training and Validation loss')\n",
    "plt.xlabel('Epochs')\n",
    "plt.ylabel('Loss')\n",
    "plt.legend()\n",
    "plt.show()"
   ]
  },
  {
   "cell_type": "code",
   "execution_count": 188,
   "metadata": {},
   "outputs": [
    {
     "data": {
      "image/png": "[encoded data removed]",
      "text/plain": [
       "<Figure size 360x360 with 1 Axes>"
      ]
     },
     "metadata": {
      "needs_background": "light"
     },
     "output_type": "display_data"
    }
   ],
   "source": [
    "# plt.scatter(X_train.iloc[:,0],y_train)\n",
    "sns.lmplot(x='Coln',y='WQI',data=df_2)\n",
    "plt.xlabel('Temperature')\n",
    "plt.ylabel('WQI')\n",
    "plt.show()"
   ]
  },
  {
   "cell_type": "code",
   "execution_count": 190,
   "metadata": {},
   "outputs": [
    {
     "data": {
      "image/png": "[encoded data removed]",
      "text/plain": [
       "<Figure size 432x288 with 1 Axes>"
      ]
     },
     "metadata": {
      "needs_background": "light"
     },
     "output_type": "display_data"
    }
   ],
   "source": [
    "plt.scatter(X_test.iloc[:,0],y_test)\n",
    "# sns.lmplot(x='Coln',y='WQI',data=df_2)\n",
    "plt.xlabel('Temperature')\n",
    "plt.ylabel('WQI')\n",
    "plt.show()"
   ]
  },
  {
   "cell_type": "code",
   "execution_count": null,
   "metadata": {},
   "outputs": [],
   "source": []
  }
 ],
 "metadata": {
  "kernelspec": {
   "display_name": "Python 3",
   "language": "python",
   "name": "python3"
  },
  "language_info": {
   "codemirror_mode": {
    "name": "ipython",
    "version": 3
   },
   "file_extension": ".py",
   "mimetype": "text/x-python",
   "name": "python",
   "nbconvert_exporter": "python",
   "pygments_lexer": "ipython3",
   "version": "3.8.5"
  }
 },
 "nbformat": 4,
 "nbformat_minor": 4
}
